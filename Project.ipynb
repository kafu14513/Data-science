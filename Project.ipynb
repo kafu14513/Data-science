{
 "cells": [
  {
   "cell_type": "markdown",
   "id": "f5504a12",
   "metadata": {},
   "source": [
    "We first import the training data:"
   ]
  },
  {
   "cell_type": "code",
   "execution_count": null,
   "id": "7531f0b0",
   "metadata": {},
   "outputs": [],
   "source": [
    "import pandas as pd\n",
    "import numpy as np\n",
    "import matplotlib.pyplot as plt\n",
    "import seaborn as sns\n",
    "import statsmodels.api as sm\n",
    "from sklearn import datasets, linear_model\n",
    "from sklearn.metrics import mean_squared_error, r2_score\n",
    "\n",
    "\n",
    "ATM_training = pd.read_csv('ATM_training.csv')\n",
    "ATM_training.head()"
   ]
  },
  {
   "cell_type": "code",
   "execution_count": 2,
   "id": "19f0062d",
   "metadata": {},
   "outputs": [
    {
     "name": "stdout",
     "output_type": "stream",
     "text": [
      "<class 'pandas.core.frame.DataFrame'>\n",
      "RangeIndex: 22000 entries, 0 to 21999\n",
      "Data columns (total 7 columns):\n",
      " #   Column    Non-Null Count  Dtype  \n",
      "---  ------    --------------  -----  \n",
      " 0   Shops     22000 non-null  float64\n",
      " 1   ATMs      22000 non-null  int64  \n",
      " 2   Downtown  22000 non-null  int64  \n",
      " 3   Weekday   22000 non-null  int64  \n",
      " 4   Center    22000 non-null  int64  \n",
      " 5   High      22000 non-null  int64  \n",
      " 6   Withdraw  22000 non-null  float64\n",
      "dtypes: float64(2), int64(5)\n",
      "memory usage: 1.2 MB\n"
     ]
    }
   ],
   "source": [
    "ATM_training.info()"
   ]
  },
  {
   "cell_type": "code",
   "execution_count": 3,
   "id": "dd2062f2",
   "metadata": {},
   "outputs": [
    {
     "data": {
      "text/html": [
       "<div>\n",
       "<style scoped>\n",
       "    .dataframe tbody tr th:only-of-type {\n",
       "        vertical-align: middle;\n",
       "    }\n",
       "\n",
       "    .dataframe tbody tr th {\n",
       "        vertical-align: top;\n",
       "    }\n",
       "\n",
       "    .dataframe thead th {\n",
       "        text-align: right;\n",
       "    }\n",
       "</style>\n",
       "<table border=\"1\" class=\"dataframe\">\n",
       "  <thead>\n",
       "    <tr style=\"text-align: right;\">\n",
       "      <th></th>\n",
       "      <th>Shops</th>\n",
       "      <th>ATMs</th>\n",
       "      <th>Downtown</th>\n",
       "      <th>Weekday</th>\n",
       "      <th>Center</th>\n",
       "      <th>High</th>\n",
       "      <th>Withdraw</th>\n",
       "    </tr>\n",
       "  </thead>\n",
       "  <tbody>\n",
       "    <tr>\n",
       "      <th>count</th>\n",
       "      <td>22000.000000</td>\n",
       "      <td>22000.000000</td>\n",
       "      <td>22000.00000</td>\n",
       "      <td>22000.000000</td>\n",
       "      <td>22000.000000</td>\n",
       "      <td>22000.000000</td>\n",
       "      <td>22000.000000</td>\n",
       "    </tr>\n",
       "    <tr>\n",
       "      <th>mean</th>\n",
       "      <td>7.316373</td>\n",
       "      <td>7.937455</td>\n",
       "      <td>0.70200</td>\n",
       "      <td>0.714091</td>\n",
       "      <td>0.102455</td>\n",
       "      <td>0.301591</td>\n",
       "      <td>54.652818</td>\n",
       "    </tr>\n",
       "    <tr>\n",
       "      <th>std</th>\n",
       "      <td>4.118692</td>\n",
       "      <td>3.673415</td>\n",
       "      <td>0.45739</td>\n",
       "      <td>0.451857</td>\n",
       "      <td>0.303252</td>\n",
       "      <td>0.458959</td>\n",
       "      <td>25.099767</td>\n",
       "    </tr>\n",
       "    <tr>\n",
       "      <th>min</th>\n",
       "      <td>0.800000</td>\n",
       "      <td>0.000000</td>\n",
       "      <td>0.00000</td>\n",
       "      <td>0.000000</td>\n",
       "      <td>0.000000</td>\n",
       "      <td>0.000000</td>\n",
       "      <td>11.668197</td>\n",
       "    </tr>\n",
       "    <tr>\n",
       "      <th>25%</th>\n",
       "      <td>1.050000</td>\n",
       "      <td>4.000000</td>\n",
       "      <td>0.00000</td>\n",
       "      <td>0.000000</td>\n",
       "      <td>0.000000</td>\n",
       "      <td>0.000000</td>\n",
       "      <td>18.500386</td>\n",
       "    </tr>\n",
       "    <tr>\n",
       "      <th>50%</th>\n",
       "      <td>9.890000</td>\n",
       "      <td>9.000000</td>\n",
       "      <td>1.00000</td>\n",
       "      <td>1.000000</td>\n",
       "      <td>0.000000</td>\n",
       "      <td>0.000000</td>\n",
       "      <td>68.240749</td>\n",
       "    </tr>\n",
       "    <tr>\n",
       "      <th>75%</th>\n",
       "      <td>10.070000</td>\n",
       "      <td>11.000000</td>\n",
       "      <td>1.00000</td>\n",
       "      <td>1.000000</td>\n",
       "      <td>0.000000</td>\n",
       "      <td>1.000000</td>\n",
       "      <td>71.345778</td>\n",
       "    </tr>\n",
       "    <tr>\n",
       "      <th>max</th>\n",
       "      <td>10.830000</td>\n",
       "      <td>17.000000</td>\n",
       "      <td>1.00000</td>\n",
       "      <td>1.000000</td>\n",
       "      <td>1.000000</td>\n",
       "      <td>1.000000</td>\n",
       "      <td>103.964065</td>\n",
       "    </tr>\n",
       "  </tbody>\n",
       "</table>\n",
       "</div>"
      ],
      "text/plain": [
       "              Shops          ATMs     Downtown       Weekday        Center  \\\n",
       "count  22000.000000  22000.000000  22000.00000  22000.000000  22000.000000   \n",
       "mean       7.316373      7.937455      0.70200      0.714091      0.102455   \n",
       "std        4.118692      3.673415      0.45739      0.451857      0.303252   \n",
       "min        0.800000      0.000000      0.00000      0.000000      0.000000   \n",
       "25%        1.050000      4.000000      0.00000      0.000000      0.000000   \n",
       "50%        9.890000      9.000000      1.00000      1.000000      0.000000   \n",
       "75%       10.070000     11.000000      1.00000      1.000000      0.000000   \n",
       "max       10.830000     17.000000      1.00000      1.000000      1.000000   \n",
       "\n",
       "               High      Withdraw  \n",
       "count  22000.000000  22000.000000  \n",
       "mean       0.301591     54.652818  \n",
       "std        0.458959     25.099767  \n",
       "min        0.000000     11.668197  \n",
       "25%        0.000000     18.500386  \n",
       "50%        0.000000     68.240749  \n",
       "75%        1.000000     71.345778  \n",
       "max        1.000000    103.964065  "
      ]
     },
     "execution_count": 3,
     "metadata": {},
     "output_type": "execute_result"
    }
   ],
   "source": [
    "ATM_training.describe()"
   ]
  },
  {
   "cell_type": "code",
   "execution_count": 4,
   "id": "32370642",
   "metadata": {},
   "outputs": [
    {
     "data": {
      "text/plain": [
       "Shops       0\n",
       "ATMs        0\n",
       "Downtown    0\n",
       "Weekday     0\n",
       "Center      0\n",
       "High        0\n",
       "Withdraw    0\n",
       "dtype: int64"
      ]
     },
     "execution_count": 4,
     "metadata": {},
     "output_type": "execute_result"
    }
   ],
   "source": [
    "ATM_training.isnull().sum()"
   ]
  },
  {
   "cell_type": "code",
   "execution_count": 5,
   "id": "599a0739",
   "metadata": {},
   "outputs": [
    {
     "data": {
      "text/html": [
       "<div>\n",
       "<style scoped>\n",
       "    .dataframe tbody tr th:only-of-type {\n",
       "        vertical-align: middle;\n",
       "    }\n",
       "\n",
       "    .dataframe tbody tr th {\n",
       "        vertical-align: top;\n",
       "    }\n",
       "\n",
       "    .dataframe thead th {\n",
       "        text-align: right;\n",
       "    }\n",
       "</style>\n",
       "<table border=\"1\" class=\"dataframe\">\n",
       "  <thead>\n",
       "    <tr style=\"text-align: right;\">\n",
       "      <th></th>\n",
       "      <th>Shops</th>\n",
       "      <th>ATMs</th>\n",
       "      <th>Downtown</th>\n",
       "      <th>Weekday</th>\n",
       "      <th>Center</th>\n",
       "      <th>High</th>\n",
       "      <th>Withdraw</th>\n",
       "    </tr>\n",
       "  </thead>\n",
       "  <tbody>\n",
       "    <tr>\n",
       "      <th>Shops</th>\n",
       "      <td>1.000000</td>\n",
       "      <td>0.872903</td>\n",
       "      <td>0.999131</td>\n",
       "      <td>0.013014</td>\n",
       "      <td>0.000004</td>\n",
       "      <td>0.001820</td>\n",
       "      <td>0.985797</td>\n",
       "    </tr>\n",
       "    <tr>\n",
       "      <th>ATMs</th>\n",
       "      <td>0.872903</td>\n",
       "      <td>1.000000</td>\n",
       "      <td>0.873726</td>\n",
       "      <td>0.009766</td>\n",
       "      <td>-0.003306</td>\n",
       "      <td>-0.002616</td>\n",
       "      <td>0.824030</td>\n",
       "    </tr>\n",
       "    <tr>\n",
       "      <th>Downtown</th>\n",
       "      <td>0.999131</td>\n",
       "      <td>0.873726</td>\n",
       "      <td>1.000000</td>\n",
       "      <td>0.012664</td>\n",
       "      <td>-0.000101</td>\n",
       "      <td>0.001782</td>\n",
       "      <td>0.983574</td>\n",
       "    </tr>\n",
       "    <tr>\n",
       "      <th>Weekday</th>\n",
       "      <td>0.013014</td>\n",
       "      <td>0.009766</td>\n",
       "      <td>0.012664</td>\n",
       "      <td>1.000000</td>\n",
       "      <td>-0.007153</td>\n",
       "      <td>-0.006793</td>\n",
       "      <td>-0.050470</td>\n",
       "    </tr>\n",
       "    <tr>\n",
       "      <th>Center</th>\n",
       "      <td>0.000004</td>\n",
       "      <td>-0.003306</td>\n",
       "      <td>-0.000101</td>\n",
       "      <td>-0.007153</td>\n",
       "      <td>1.000000</td>\n",
       "      <td>0.010521</td>\n",
       "      <td>0.088103</td>\n",
       "    </tr>\n",
       "    <tr>\n",
       "      <th>High</th>\n",
       "      <td>0.001820</td>\n",
       "      <td>-0.002616</td>\n",
       "      <td>0.001782</td>\n",
       "      <td>-0.006793</td>\n",
       "      <td>0.010521</td>\n",
       "      <td>1.000000</td>\n",
       "      <td>0.021275</td>\n",
       "    </tr>\n",
       "    <tr>\n",
       "      <th>Withdraw</th>\n",
       "      <td>0.985797</td>\n",
       "      <td>0.824030</td>\n",
       "      <td>0.983574</td>\n",
       "      <td>-0.050470</td>\n",
       "      <td>0.088103</td>\n",
       "      <td>0.021275</td>\n",
       "      <td>1.000000</td>\n",
       "    </tr>\n",
       "  </tbody>\n",
       "</table>\n",
       "</div>"
      ],
      "text/plain": [
       "             Shops      ATMs  Downtown   Weekday    Center      High  Withdraw\n",
       "Shops     1.000000  0.872903  0.999131  0.013014  0.000004  0.001820  0.985797\n",
       "ATMs      0.872903  1.000000  0.873726  0.009766 -0.003306 -0.002616  0.824030\n",
       "Downtown  0.999131  0.873726  1.000000  0.012664 -0.000101  0.001782  0.983574\n",
       "Weekday   0.013014  0.009766  0.012664  1.000000 -0.007153 -0.006793 -0.050470\n",
       "Center    0.000004 -0.003306 -0.000101 -0.007153  1.000000  0.010521  0.088103\n",
       "High      0.001820 -0.002616  0.001782 -0.006793  0.010521  1.000000  0.021275\n",
       "Withdraw  0.985797  0.824030  0.983574 -0.050470  0.088103  0.021275  1.000000"
      ]
     },
     "execution_count": 5,
     "metadata": {},
     "output_type": "execute_result"
    }
   ],
   "source": [
    "correlations = ATM_training.corr()\n",
    "correlations"
   ]
  },
  {
   "cell_type": "markdown",
   "id": "e2e6d621",
   "metadata": {},
   "source": [
    "There is likely multicollinearity present. Of particular note are the following pairs of extremely high correlations:\n",
    "- Shops~ATMs ($\\rho=0.873$)\n",
    "- Shops~Downtown ($\\rho=0.999$)\n",
    "- ATMs~Downtown ($\\rho=0.874$)"
   ]
  },
  {
   "cell_type": "code",
   "execution_count": 6,
   "id": "1d2c46e6",
   "metadata": {},
   "outputs": [
    {
     "data": {
      "image/png": "[encoded data removed]",
      "text/plain": [
       "<Figure size 1260x1260 with 56 Axes>"
      ]
     },
     "metadata": {
      "needs_background": "light"
     },
     "output_type": "display_data"
    }
   ],
   "source": [
    "sns.pairplot(ATM_training)\n",
    "plt.show()"
   ]
  },
  {
   "cell_type": "markdown",
   "id": "a6a8f380",
   "metadata": {},
   "source": [
    "Let's start with a multiple linear regression:"
   ]
  },
  {
   "cell_type": "code",
   "execution_count": 7,
   "id": "ad116253",
   "metadata": {},
   "outputs": [
    {
     "data": {
      "text/html": [
       "<div>\n",
       "<style scoped>\n",
       "    .dataframe tbody tr th:only-of-type {\n",
       "        vertical-align: middle;\n",
       "    }\n",
       "\n",
       "    .dataframe tbody tr th {\n",
       "        vertical-align: top;\n",
       "    }\n",
       "\n",
       "    .dataframe thead th {\n",
       "        text-align: right;\n",
       "    }\n",
       "</style>\n",
       "<table border=\"1\" class=\"dataframe\">\n",
       "  <thead>\n",
       "    <tr style=\"text-align: right;\">\n",
       "      <th></th>\n",
       "      <th>const</th>\n",
       "      <th>Shops</th>\n",
       "      <th>ATMs</th>\n",
       "      <th>Downtown</th>\n",
       "      <th>Weekday</th>\n",
       "      <th>Center</th>\n",
       "      <th>High</th>\n",
       "    </tr>\n",
       "  </thead>\n",
       "  <tbody>\n",
       "    <tr>\n",
       "      <th>0</th>\n",
       "      <td>1.0</td>\n",
       "      <td>10.18</td>\n",
       "      <td>10</td>\n",
       "      <td>1</td>\n",
       "      <td>0</td>\n",
       "      <td>0</td>\n",
       "      <td>0</td>\n",
       "    </tr>\n",
       "    <tr>\n",
       "      <th>1</th>\n",
       "      <td>1.0</td>\n",
       "      <td>9.74</td>\n",
       "      <td>10</td>\n",
       "      <td>1</td>\n",
       "      <td>1</td>\n",
       "      <td>0</td>\n",
       "      <td>0</td>\n",
       "    </tr>\n",
       "    <tr>\n",
       "      <th>2</th>\n",
       "      <td>1.0</td>\n",
       "      <td>0.96</td>\n",
       "      <td>2</td>\n",
       "      <td>0</td>\n",
       "      <td>0</td>\n",
       "      <td>0</td>\n",
       "      <td>1</td>\n",
       "    </tr>\n",
       "    <tr>\n",
       "      <th>3</th>\n",
       "      <td>1.0</td>\n",
       "      <td>9.58</td>\n",
       "      <td>9</td>\n",
       "      <td>1</td>\n",
       "      <td>1</td>\n",
       "      <td>0</td>\n",
       "      <td>1</td>\n",
       "    </tr>\n",
       "    <tr>\n",
       "      <th>4</th>\n",
       "      <td>1.0</td>\n",
       "      <td>1.03</td>\n",
       "      <td>4</td>\n",
       "      <td>0</td>\n",
       "      <td>1</td>\n",
       "      <td>0</td>\n",
       "      <td>1</td>\n",
       "    </tr>\n",
       "  </tbody>\n",
       "</table>\n",
       "</div>"
      ],
      "text/plain": [
       "   const  Shops  ATMs  Downtown  Weekday  Center  High\n",
       "0    1.0  10.18    10         1        0       0     0\n",
       "1    1.0   9.74    10         1        1       0     0\n",
       "2    1.0   0.96     2         0        0       0     1\n",
       "3    1.0   9.58     9         1        1       0     1\n",
       "4    1.0   1.03     4         0        1       0     1"
      ]
     },
     "execution_count": 7,
     "metadata": {},
     "output_type": "execute_result"
    }
   ],
   "source": [
    "y = ATM_training[\"Withdraw\"]\n",
    "x = ATM_training.iloc[:, 0:-1]\n",
    "x_with_intercept = sm.add_constant(x, prepend=True)\n",
    "x_with_intercept.head()"
   ]
  },
  {
   "cell_type": "code",
   "execution_count": 8,
   "id": "945b513c",
   "metadata": {},
   "outputs": [
    {
     "name": "stdout",
     "output_type": "stream",
     "text": [
      "                            OLS Regression Results                            \n",
      "==============================================================================\n",
      "Dep. Variable:               Withdraw   R-squared:                       0.990\n",
      "Model:                            OLS   Adj. R-squared:                  0.990\n",
      "Method:                 Least Squares   F-statistic:                 3.656e+05\n",
      "Date:                Thu, 03 Nov 2022   Prob (F-statistic):               0.00\n",
      "Time:                        19:08:45   Log-Likelihood:                -51380.\n",
      "No. Observations:               22000   AIC:                         1.028e+05\n",
      "Df Residuals:                   21993   BIC:                         1.028e+05\n",
      "Df Model:                           6                                         \n",
      "Covariance Type:            nonrobust                                         \n",
      "==============================================================================\n",
      "                 coef    std err          t      P>|t|      [0.025      0.975]\n",
      "------------------------------------------------------------------------------\n",
      "const         10.4284      0.111     94.198      0.000      10.211      10.645\n",
      "Shops         10.8138      0.098    110.062      0.000      10.621      11.006\n",
      "ATMs          -1.0096      0.009   -106.982      0.000      -1.028      -0.991\n",
      "Downtown     -36.1897      0.887    -40.781      0.000     -37.929     -34.450\n",
      "Weekday       -3.5011      0.037    -93.806      0.000      -3.574      -3.428\n",
      "Center         7.1931      0.056    129.352      0.000       7.084       7.302\n",
      "High           0.9566      0.037     26.035      0.000       0.885       1.029\n",
      "==============================================================================\n",
      "Omnibus:                    17745.344   Durbin-Watson:                   1.998\n",
      "Prob(Omnibus):                  0.000   Jarque-Bera (JB):           468940.833\n",
      "Skew:                           3.781   Prob(JB):                         0.00\n",
      "Kurtosis:                      24.316   Cond. No.                         646.\n",
      "==============================================================================\n",
      "\n",
      "Notes:\n",
      "[1] Standard Errors assume that the covariance matrix of the errors is correctly specified.\n"
     ]
    }
   ],
   "source": [
    "model_multivariate = sm.OLS(y, x_with_intercept)\n",
    "\n",
    "result = model_multivariate.fit()\n",
    "\n",
    "print(result.summary())"
   ]
  },
  {
   "cell_type": "markdown",
   "id": "dac90ace",
   "metadata": {},
   "source": [
    "We can obtain the predicted values for the test set:"
   ]
  },
  {
   "cell_type": "code",
   "execution_count": 63,
   "id": "5319ac63",
   "metadata": {},
   "outputs": [
    {
     "data": {
      "text/plain": [
       "0      16.554879\n",
       "1      71.339688\n",
       "2      66.399676\n",
       "3      72.816229\n",
       "4      73.646980\n",
       "         ...    \n",
       "145    65.719767\n",
       "146    16.515216\n",
       "147    71.539326\n",
       "148    65.247551\n",
       "149    77.130290\n",
       "Length: 150, dtype: float64"
      ]
     },
     "execution_count": 63,
     "metadata": {},
     "output_type": "execute_result"
    }
   ],
   "source": [
    "ATM_test = pd.read_csv('ATM_test.csv')\n",
    "ATM_test_independent = ATM_test.iloc[:, 0:-1]\n",
    "ATM_test_independent_intercept = sm.add_constant(ATM_test_independent, prepend=True)\n",
    "ATM_test_independent_intercept_pred=result.predict(ATM_test_independent_intercept)\n",
    "ATM_test_independent_intercept_pred"
   ]
  },
  {
   "cell_type": "markdown",
   "id": "2097eb66",
   "metadata": {},
   "source": [
    "We then evaluate the test error. This is substantial, but by careful evaluation of the test errors, it becomes clear that the model can predict many points very well, with the high test error coming from a few poorly-predicted points."
   ]
  },
  {
   "cell_type": "code",
   "execution_count": 10,
   "id": "7f55c141",
   "metadata": {},
   "outputs": [
    {
     "data": {
      "text/plain": [
       "7.405884449854866"
      ]
     },
     "execution_count": 10,
     "metadata": {},
     "output_type": "execute_result"
    }
   ],
   "source": [
    "ui = ATM_test[\"Withdraw\"]-ATM_test_independent_intercept_pred\n",
    "ui\n",
    "test_error = sum(i*i for i in ui)/len(ui)\n",
    "test_error"
   ]
  },
  {
   "cell_type": "markdown",
   "id": "d0403ccb",
   "metadata": {},
   "source": [
    "However, note that this test error is not profoundly different from the training error:"
   ]
  },
  {
   "cell_type": "code",
   "execution_count": 11,
   "id": "afacb557",
   "metadata": {},
   "outputs": [
    {
     "data": {
      "text/plain": [
       "6.252746531168414"
      ]
     },
     "execution_count": 11,
     "metadata": {},
     "output_type": "execute_result"
    }
   ],
   "source": [
    "uii = result.predict()-ATM_training[\"Withdraw\"]\n",
    "uii\n",
    "train_error = sum(i*i for i in uii)/len(uii)\n",
    "train_error"
   ]
  },
  {
   "cell_type": "markdown",
   "id": "eee74fa1",
   "metadata": {},
   "source": [
    "The R-squared suggests that the model predicts the response variable 'Withdraw' very well, although this is reason for concern. Such a high R-squared may be the result of multicollinearity, overfitting or other causes. Let's check single linear regressions for each variable:"
   ]
  },
  {
   "cell_type": "code",
   "execution_count": 12,
   "id": "f140023c",
   "metadata": {},
   "outputs": [
    {
     "data": {
      "text/plain": [
       "Text(0.5, 1.0, 'Plot of Withdrawals against Shops')"
      ]
     },
     "execution_count": 12,
     "metadata": {},
     "output_type": "execute_result"
    },
    {
     "data": {
      "image/png": "[encoded data removed]",
      "text/plain": [
       "<Figure size 432x288 with 1 Axes>"
      ]
     },
     "metadata": {
      "needs_background": "light"
     },
     "output_type": "display_data"
    }
   ],
   "source": [
    "plt.scatter(ATM_training[\"Shops\"], ATM_training[\"Withdraw\"], alpha = 0.1)\n",
    "plt.xlabel(\"Shops\")\n",
    "plt.ylabel(\"Withdraw\")\n",
    "plt.title(\"Plot of Withdrawals against Shops\")"
   ]
  },
  {
   "cell_type": "code",
   "execution_count": 13,
   "id": "d246d59d",
   "metadata": {},
   "outputs": [
    {
     "data": {
      "text/plain": [
       "Text(0.5, 1.0, 'Plot of Withdrawals against ATMs')"
      ]
     },
     "execution_count": 13,
     "metadata": {},
     "output_type": "execute_result"
    },
    {
     "data": {
      "image/png": "[encoded data removed]",
      "text/plain": [
       "<Figure size 432x288 with 1 Axes>"
      ]
     },
     "metadata": {
      "needs_background": "light"
     },
     "output_type": "display_data"
    }
   ],
   "source": [
    "plt.scatter(ATM_training[\"ATMs\"], ATM_training[\"Withdraw\"], alpha = 0.1)\n",
    "plt.xlabel(\"ATMs\")\n",
    "plt.ylabel(\"Withdraw\")\n",
    "plt.title(\"Plot of Withdrawals against ATMs\")"
   ]
  },
  {
   "cell_type": "code",
   "execution_count": 14,
   "id": "8499fac5",
   "metadata": {},
   "outputs": [
    {
     "data": {
      "text/plain": [
       "Text(0.5, 1.0, 'Plot of Withdrawals against Downtown')"
      ]
     },
     "execution_count": 14,
     "metadata": {},
     "output_type": "execute_result"
    },
    {
     "data": {
      "image/png": "[encoded data removed]",
      "text/plain": [
       "<Figure size 432x288 with 1 Axes>"
      ]
     },
     "metadata": {
      "needs_background": "light"
     },
     "output_type": "display_data"
    }
   ],
   "source": [
    "plt.scatter(ATM_training[\"Downtown\"], ATM_training[\"Withdraw\"], alpha = 0.1)\n",
    "plt.xlabel(\"Downtown\")\n",
    "plt.ylabel(\"Withdraw\")\n",
    "plt.title(\"Plot of Withdrawals against Downtown\")"
   ]
  },
  {
   "cell_type": "code",
   "execution_count": 15,
   "id": "239e8432",
   "metadata": {},
   "outputs": [
    {
     "data": {
      "text/plain": [
       "Text(0.5, 1.0, 'Plot of Withdrawals against Weekday')"
      ]
     },
     "execution_count": 15,
     "metadata": {},
     "output_type": "execute_result"
    },
    {
     "data": {
      "image/png": "[encoded data removed]",
      "text/plain": [
       "<Figure size 432x288 with 1 Axes>"
      ]
     },
     "metadata": {
      "needs_background": "light"
     },
     "output_type": "display_data"
    }
   ],
   "source": [
    "plt.scatter(ATM_training[\"Weekday\"], ATM_training[\"Withdraw\"], alpha = 0.1)\n",
    "plt.xlabel(\"Weekday\")\n",
    "plt.ylabel(\"Withdraw\")\n",
    "plt.title(\"Plot of Withdrawals against Weekday\")"
   ]
  },
  {
   "cell_type": "code",
   "execution_count": 16,
   "id": "6ed31c03",
   "metadata": {},
   "outputs": [
    {
     "data": {
      "text/plain": [
       "Text(0.5, 1.0, 'Plot of Withdrawals against Center')"
      ]
     },
     "execution_count": 16,
     "metadata": {},
     "output_type": "execute_result"
    },
    {
     "data": {
      "image/png": "[encoded data removed]",
      "text/plain": [
       "<Figure size 432x288 with 1 Axes>"
      ]
     },
     "metadata": {
      "needs_background": "light"
     },
     "output_type": "display_data"
    }
   ],
   "source": [
    "plt.scatter(ATM_training[\"Center\"], ATM_training[\"Withdraw\"], alpha = 0.1)\n",
    "plt.xlabel(\"Center\")\n",
    "plt.ylabel(\"Withdraw\")\n",
    "plt.title(\"Plot of Withdrawals against Center\")"
   ]
  },
  {
   "cell_type": "code",
   "execution_count": 23,
   "id": "212d7be5",
   "metadata": {},
   "outputs": [
    {
     "data": {
      "text/plain": [
       "Text(0.5, 1.0, 'Plot of Withdrawals against High')"
      ]
     },
     "execution_count": 23,
     "metadata": {},
     "output_type": "execute_result"
    },
    {
     "data": {
      "image/png": "[encoded data removed]",
      "text/plain": [
       "<Figure size 432x288 with 1 Axes>"
      ]
     },
     "metadata": {
      "needs_background": "light"
     },
     "output_type": "display_data"
    }
   ],
   "source": [
    "plt.scatter(ATM_training[\"High\"], ATM_training[\"Withdraw\"], alpha = 0.1)\n",
    "plt.xlabel(\"High\")\n",
    "plt.ylabel(\"Withdraw\")\n",
    "plt.title(\"Plot of Withdrawals against High\")"
   ]
  },
  {
   "cell_type": "markdown",
   "id": "6761d9c1",
   "metadata": {},
   "source": [
    "Clearly, a linear model with all predictors is not suitable. There is significant data clustering among all variables. Instead, we can attempt to remove certain variables to minimise multicollinearity:"
   ]
  },
  {
   "cell_type": "code",
   "execution_count": 166,
   "id": "1d2bf89f",
   "metadata": {},
   "outputs": [
    {
     "data": {
      "text/html": [
       "<div>\n",
       "<style scoped>\n",
       "    .dataframe tbody tr th:only-of-type {\n",
       "        vertical-align: middle;\n",
       "    }\n",
       "\n",
       "    .dataframe tbody tr th {\n",
       "        vertical-align: top;\n",
       "    }\n",
       "\n",
       "    .dataframe thead th {\n",
       "        text-align: right;\n",
       "    }\n",
       "</style>\n",
       "<table border=\"1\" class=\"dataframe\">\n",
       "  <thead>\n",
       "    <tr style=\"text-align: right;\">\n",
       "      <th></th>\n",
       "      <th>variables</th>\n",
       "      <th>VIF</th>\n",
       "    </tr>\n",
       "  </thead>\n",
       "  <tbody>\n",
       "    <tr>\n",
       "      <th>0</th>\n",
       "      <td>Shops</td>\n",
       "      <td>526.111070</td>\n",
       "    </tr>\n",
       "    <tr>\n",
       "      <th>1</th>\n",
       "      <td>ATMs</td>\n",
       "      <td>22.334925</td>\n",
       "    </tr>\n",
       "    <tr>\n",
       "      <th>2</th>\n",
       "      <td>Downtown</td>\n",
       "      <td>405.094529</td>\n",
       "    </tr>\n",
       "    <tr>\n",
       "      <th>3</th>\n",
       "      <td>Weekday</td>\n",
       "      <td>3.669043</td>\n",
       "    </tr>\n",
       "    <tr>\n",
       "      <th>4</th>\n",
       "      <td>Center</td>\n",
       "      <td>3.746856</td>\n",
       "    </tr>\n",
       "    <tr>\n",
       "      <th>5</th>\n",
       "      <td>High</td>\n",
       "      <td>1.417255</td>\n",
       "    </tr>\n",
       "    <tr>\n",
       "      <th>6</th>\n",
       "      <td>WeekdayCenter</td>\n",
       "      <td>3.750830</td>\n",
       "    </tr>\n",
       "  </tbody>\n",
       "</table>\n",
       "</div>"
      ],
      "text/plain": [
       "       variables         VIF\n",
       "0          Shops  526.111070\n",
       "1           ATMs   22.334925\n",
       "2       Downtown  405.094529\n",
       "3        Weekday    3.669043\n",
       "4         Center    3.746856\n",
       "5           High    1.417255\n",
       "6  WeekdayCenter    3.750830"
      ]
     },
     "execution_count": 166,
     "metadata": {},
     "output_type": "execute_result"
    }
   ],
   "source": [
    "from statsmodels.stats.outliers_influence import variance_inflation_factor\n",
    "\n",
    "def calc_vif(x):\n",
    "\n",
    "    vif = pd.DataFrame()\n",
    "    vif[\"variables\"] = x.columns\n",
    "    vif[\"VIF\"] = [variance_inflation_factor(x.values, i) for i in range(x.shape[1])]\n",
    "\n",
    "    return(vif)\n",
    "\n",
    "calc_vif(x)"
   ]
  },
  {
   "cell_type": "markdown",
   "id": "b5b45258",
   "metadata": {},
   "source": [
    "Generally speaking, a Variance Inflation Factor (VIF) of above 10 indicates the likely presence of multicollinearity. Clearly, the variables 'Shops' and 'Downtown' have a particularly high VIF, meaning that they can largely be predicted by the other predictors in the dataset. The variable 'ATMs' has a relatively high VIF in the presence of 'Shops' and 'Downtown'. However, if we remove 'Shops' and 'Downtown', we see that the VIF on 'ATMs' drops to an acceptable level:"
   ]
  },
  {
   "cell_type": "code",
   "execution_count": 25,
   "id": "7efc882b",
   "metadata": {},
   "outputs": [
    {
     "data": {
      "text/html": [
       "<div>\n",
       "<style scoped>\n",
       "    .dataframe tbody tr th:only-of-type {\n",
       "        vertical-align: middle;\n",
       "    }\n",
       "\n",
       "    .dataframe tbody tr th {\n",
       "        vertical-align: top;\n",
       "    }\n",
       "\n",
       "    .dataframe thead th {\n",
       "        text-align: right;\n",
       "    }\n",
       "</style>\n",
       "<table border=\"1\" class=\"dataframe\">\n",
       "  <thead>\n",
       "    <tr style=\"text-align: right;\">\n",
       "      <th></th>\n",
       "      <th>variables</th>\n",
       "      <th>VIF</th>\n",
       "    </tr>\n",
       "  </thead>\n",
       "  <tbody>\n",
       "    <tr>\n",
       "      <th>0</th>\n",
       "      <td>ATMs</td>\n",
       "      <td>2.653734</td>\n",
       "    </tr>\n",
       "    <tr>\n",
       "      <th>1</th>\n",
       "      <td>Weekday</td>\n",
       "      <td>2.509087</td>\n",
       "    </tr>\n",
       "    <tr>\n",
       "      <th>2</th>\n",
       "      <td>Center</td>\n",
       "      <td>1.098688</td>\n",
       "    </tr>\n",
       "    <tr>\n",
       "      <th>3</th>\n",
       "      <td>High</td>\n",
       "      <td>1.358037</td>\n",
       "    </tr>\n",
       "  </tbody>\n",
       "</table>\n",
       "</div>"
      ],
      "text/plain": [
       "  variables       VIF\n",
       "0      ATMs  2.653734\n",
       "1   Weekday  2.509087\n",
       "2    Center  1.098688\n",
       "3      High  1.358037"
      ]
     },
     "execution_count": 25,
     "metadata": {},
     "output_type": "execute_result"
    }
   ],
   "source": [
    "v=[1,3,4,5]\n",
    "x = ATM_training.iloc[:, v]\n",
    "calc_vif(x)"
   ]
  },
  {
   "cell_type": "markdown",
   "id": "d23f997d",
   "metadata": {},
   "source": [
    "Therefore, we run another linear model but with only 'ATMs', 'Weekday', 'Center' and 'High' as predictors:"
   ]
  },
  {
   "cell_type": "code",
   "execution_count": 35,
   "id": "e88812fc",
   "metadata": {},
   "outputs": [
    {
     "name": "stdout",
     "output_type": "stream",
     "text": [
      "                            OLS Regression Results                            \n",
      "==============================================================================\n",
      "Dep. Variable:               Withdraw   R-squared:                       0.691\n",
      "Model:                            OLS   Adj. R-squared:                  0.691\n",
      "Method:                 Least Squares   F-statistic:                 1.230e+04\n",
      "Date:                Sun, 30 Oct 2022   Prob (F-statistic):               0.00\n",
      "Time:                        15:40:51   Log-Likelihood:                -89196.\n",
      "No. Observations:               22000   AIC:                         1.784e+05\n",
      "Df Residuals:                   21995   BIC:                         1.784e+05\n",
      "Df Model:                           4                                         \n",
      "Covariance Type:            nonrobust                                         \n",
      "==============================================================================\n",
      "                 coef    std err          t      P>|t|      [0.025      0.975]\n",
      "------------------------------------------------------------------------------\n",
      "const         11.0724      0.277     39.965      0.000      10.529      11.615\n",
      "ATMs           5.6367      0.026    220.123      0.000       5.587       5.687\n",
      "Weekday       -3.2068      0.208    -15.404      0.000      -3.615      -2.799\n",
      "Center         7.4645      0.310     24.064      0.000       6.856       8.073\n",
      "High           1.2082      0.205      5.895      0.000       0.806       1.610\n",
      "==============================================================================\n",
      "Omnibus:                      578.977   Durbin-Watson:                   2.004\n",
      "Prob(Omnibus):                  0.000   Jarque-Bera (JB):              623.103\n",
      "Skew:                           0.409   Prob(JB):                    4.95e-136\n",
      "Kurtosis:                       2.899   Cond. No.                         30.5\n",
      "==============================================================================\n",
      "\n",
      "Notes:\n",
      "[1] Standard Errors assume that the covariance matrix of the errors is correctly specified.\n"
     ]
    }
   ],
   "source": [
    "y = ATM_training[\"Withdraw\"]\n",
    "v=[1,3,4,5]\n",
    "x = ATM_training.iloc[:, v]\n",
    "\n",
    "x_with_intercept = sm.add_constant(x, prepend=True)\n",
    "x_with_intercept.head()\n",
    "\n",
    "model_multivariate = sm.OLS(y, x_with_intercept)\n",
    "\n",
    "result1 = model_multivariate.fit()\n",
    "\n",
    "print(result1.summary())"
   ]
  },
  {
   "cell_type": "markdown",
   "id": "7dc97091",
   "metadata": {},
   "source": [
    "The R-squared is much more reasonable, and the t-statistics are not suspiciously high (although they are still quite high for a typical linear regression). We then evaluate the test error:"
   ]
  },
  {
   "cell_type": "code",
   "execution_count": 37,
   "id": "bbda1f82",
   "metadata": {},
   "outputs": [
    {
     "data": {
      "text/plain": [
       "0      33.619286\n",
       "1      52.959358\n",
       "2      81.142998\n",
       "3      75.506270\n",
       "4      47.322630\n",
       "         ...    \n",
       "145    78.713110\n",
       "146    13.502263\n",
       "147    54.167531\n",
       "148    58.596086\n",
       "149    86.177616\n",
       "Length: 150, dtype: float64"
      ]
     },
     "execution_count": 37,
     "metadata": {},
     "output_type": "execute_result"
    }
   ],
   "source": [
    "ATM_test = pd.read_csv('ATM_test.csv')\n",
    "v=[1,3,4,5]\n",
    "ATM_test_independent1 = ATM_test.iloc[:, v]\n",
    "ATM_test_independent_intercept1 = sm.add_constant(ATM_test_independent1, prepend=True)\n",
    "ATM_test_independent_intercept_pred1=result1.predict(ATM_test_independent_intercept1)\n",
    "ATM_test_independent_intercept_pred1"
   ]
  },
  {
   "cell_type": "code",
   "execution_count": 38,
   "id": "d39f9525",
   "metadata": {},
   "outputs": [
    {
     "data": {
      "text/plain": [
       "194.74779533631283"
      ]
     },
     "execution_count": 38,
     "metadata": {},
     "output_type": "execute_result"
    }
   ],
   "source": [
    "ui = ATM_test[\"Withdraw\"]-ATM_test_independent_intercept_pred1\n",
    "ui\n",
    "test_error1 = sum(i*i for i in ui)/len(ui)\n",
    "test_error1"
   ]
  },
  {
   "cell_type": "markdown",
   "id": "8e95faee",
   "metadata": {},
   "source": [
    "Hence this new model has far worse predictive power, despite not suffering from multicollinearity."
   ]
  },
  {
   "cell_type": "markdown",
   "id": "f3e81360",
   "metadata": {},
   "source": [
    "Let's try interaction terms. We can run scatterplots of the interaction terms against the response \"Withdraw\", with some interesting results. Many of the interactions did not display any apparent trend, but the following five did:"
   ]
  },
  {
   "cell_type": "code",
   "execution_count": 205,
   "id": "81ff67bd",
   "metadata": {},
   "outputs": [
    {
     "data": {
      "text/plain": [
       "Text(0.5, 1.0, 'Plot of Withdrawals against Shops*Downtown')"
      ]
     },
     "execution_count": 205,
     "metadata": {},
     "output_type": "execute_result"
    },
    {
     "data": {
      "image/png": "[encoded data removed]",
      "text/plain": [
       "<Figure size 432x288 with 1 Axes>"
      ]
     },
     "metadata": {
      "needs_background": "light"
     },
     "output_type": "display_data"
    }
   ],
   "source": [
    "plt.scatter(ATM_training[\"Shops\"]*ATM_training[\"Downtown\"], ATM_training[\"Withdraw\"], alpha = 0.1)\n",
    "plt.xlabel(\"Shops*Downtown\")\n",
    "plt.ylabel(\"Withdraw\")\n",
    "plt.title(\"Plot of Withdrawals against Shops*Downtown\")"
   ]
  },
  {
   "cell_type": "markdown",
   "id": "6f60968f",
   "metadata": {},
   "source": [
    "Above, note that all the points with a low withdrawal have \"Downtown=0\"."
   ]
  },
  {
   "cell_type": "code",
   "execution_count": 206,
   "id": "9be60e09",
   "metadata": {},
   "outputs": [
    {
     "data": {
      "text/plain": [
       "Text(0.5, 1.0, 'Plot of Withdrawals against Weekday*Center')"
      ]
     },
     "execution_count": 206,
     "metadata": {},
     "output_type": "execute_result"
    },
    {
     "data": {
      "image/png": "[encoded data removed]",
      "text/plain": [
       "<Figure size 432x288 with 1 Axes>"
      ]
     },
     "metadata": {
      "needs_background": "light"
     },
     "output_type": "display_data"
    }
   ],
   "source": [
    "plt.scatter(ATM_training[\"Weekday\"]*ATM_training[\"Center\"], ATM_training[\"Withdraw\"], alpha = 0.1)\n",
    "plt.xlabel(\"Weekday*Center\")\n",
    "plt.ylabel(\"Withdraw\")\n",
    "plt.title(\"Plot of Withdrawals against Weekday*Center\")"
   ]
  },
  {
   "cell_type": "markdown",
   "id": "fbcfb34a",
   "metadata": {},
   "source": [
    "Above, note that the points with a high withdrawal (above approximately 82 or so) have \"Weekday * Center=0\". This is because \"Weekday=0\" for all the points with a high withdrawal."
   ]
  },
  {
   "cell_type": "code",
   "execution_count": 207,
   "id": "91d8f6e6",
   "metadata": {},
   "outputs": [
    {
     "data": {
      "text/plain": [
       "Text(0.5, 1.0, 'Plot of Withdrawals against Weekday*High')"
      ]
     },
     "execution_count": 207,
     "metadata": {},
     "output_type": "execute_result"
    },
    {
     "data": {
      "image/png": "[encoded data removed]",
      "text/plain": [
       "<Figure size 432x288 with 1 Axes>"
      ]
     },
     "metadata": {
      "needs_background": "light"
     },
     "output_type": "display_data"
    }
   ],
   "source": [
    "plt.scatter(ATM_training[\"Weekday\"]*ATM_training[\"High\"], ATM_training[\"Withdraw\"], alpha = 0.1)\n",
    "plt.xlabel(\"Weekday*High\")\n",
    "plt.ylabel(\"Withdraw\")\n",
    "plt.title(\"Plot of Withdrawals against Weekday*High\")"
   ]
  },
  {
   "cell_type": "markdown",
   "id": "e65e4048",
   "metadata": {},
   "source": [
    "Above, note that the points with a high withdrawal (above approximately 82 or so) have \"Weekday * High=0\". This is very similar to the plot of \"Weekday * Center\". This is because \"Weekday=0\" for all the points with a high withdrawal."
   ]
  },
  {
   "cell_type": "code",
   "execution_count": 208,
   "id": "5f621d69",
   "metadata": {},
   "outputs": [
    {
     "data": {
      "text/plain": [
       "Text(0.5, 1.0, 'Plot of Withdrawals against Weekday*Downtown')"
      ]
     },
     "execution_count": 208,
     "metadata": {},
     "output_type": "execute_result"
    },
    {
     "data": {
      "image/png": "[encoded data removed]",
      "text/plain": [
       "<Figure size 432x288 with 1 Axes>"
      ]
     },
     "metadata": {
      "needs_background": "light"
     },
     "output_type": "display_data"
    }
   ],
   "source": [
    "plt.scatter(ATM_training[\"Weekday\"]*ATM_training[\"Downtown\"], ATM_training[\"Withdraw\"], alpha = 0.1)\n",
    "plt.xlabel(\"Weekday*Downtown\")\n",
    "plt.ylabel(\"Withdraw\")\n",
    "plt.title(\"Plot of Withdrawals against Weekday*Downtown\")"
   ]
  },
  {
   "cell_type": "markdown",
   "id": "da1ef110",
   "metadata": {},
   "source": [
    "Above, note that the points with a high withdrawal (above approximately 82 or so) have \"Weekday * Downtown=0\". This is because \"Weekday=0\" for all the points with a high withdrawal.\n",
    "\n",
    "Also note that the points with a low withdrawal have \"Weekday * Downtown=0\" as well. "
   ]
  },
  {
   "cell_type": "code",
   "execution_count": 209,
   "id": "fd3915ac",
   "metadata": {},
   "outputs": [
    {
     "data": {
      "text/plain": [
       "Text(0.5, 1.0, 'Plot of Withdrawals against Downtown*Center')"
      ]
     },
     "execution_count": 209,
     "metadata": {},
     "output_type": "execute_result"
    },
    {
     "data": {
      "image/png": "[encoded data removed]",
      "text/plain": [
       "<Figure size 432x288 with 1 Axes>"
      ]
     },
     "metadata": {
      "needs_background": "light"
     },
     "output_type": "display_data"
    }
   ],
   "source": [
    "plt.scatter(ATM_training[\"Downtown\"]*ATM_training[\"Center\"], ATM_training[\"Withdraw\"], alpha = 0.1)\n",
    "plt.xlabel(\"Downtown*Center\")\n",
    "plt.ylabel(\"Withdraw\")\n",
    "plt.title(\"Plot of Withdrawals against Downtown*Center\")"
   ]
  },
  {
   "cell_type": "markdown",
   "id": "587b50c7",
   "metadata": {},
   "source": [
    "Above, note that the points with a high withdrawal (above approximately 82 or so) have \"Downtown * Center=1\". This is because \"Downtown=1\" and \"Center=1\" for all the points with a high withdrawal.\n",
    "\n",
    "Also note that the points with a low withdrawal have \"Downtown * Center=0\"."
   ]
  },
  {
   "cell_type": "markdown",
   "id": "5188b723",
   "metadata": {},
   "source": [
    "Hence we believe the following interaction terms tell us something about the upper cluster of withdrawals:\n",
    "\n",
    "    > \"Shops * Downtown\"\n",
    "    > \"Weekday * Center\"\n",
    "    > \"Weekday * High\" \n",
    "    > \"Weekday * Downtown\"\n",
    "    > \"Downtown * Center\"\n",
    "    \n",
    "Let's generate these interaction terms and add them to our dataset:"
   ]
  },
  {
   "cell_type": "code",
   "execution_count": 211,
   "id": "0946ec39",
   "metadata": {},
   "outputs": [
    {
     "data": {
      "text/html": [
       "<div>\n",
       "<style scoped>\n",
       "    .dataframe tbody tr th:only-of-type {\n",
       "        vertical-align: middle;\n",
       "    }\n",
       "\n",
       "    .dataframe tbody tr th {\n",
       "        vertical-align: top;\n",
       "    }\n",
       "\n",
       "    .dataframe thead th {\n",
       "        text-align: right;\n",
       "    }\n",
       "</style>\n",
       "<table border=\"1\" class=\"dataframe\">\n",
       "  <thead>\n",
       "    <tr style=\"text-align: right;\">\n",
       "      <th></th>\n",
       "      <th>Shops</th>\n",
       "      <th>ATMs</th>\n",
       "      <th>Downtown</th>\n",
       "      <th>Weekday</th>\n",
       "      <th>Center</th>\n",
       "      <th>High</th>\n",
       "      <th>Withdraw</th>\n",
       "      <th>ShopsDowntown</th>\n",
       "      <th>WeekdayCenter</th>\n",
       "      <th>WeekdayHigh</th>\n",
       "      <th>WeekdayDowntown</th>\n",
       "      <th>DowntownCenter</th>\n",
       "    </tr>\n",
       "  </thead>\n",
       "  <tbody>\n",
       "    <tr>\n",
       "      <th>0</th>\n",
       "      <td>10.18</td>\n",
       "      <td>10</td>\n",
       "      <td>1</td>\n",
       "      <td>0</td>\n",
       "      <td>0</td>\n",
       "      <td>0</td>\n",
       "      <td>72.750556</td>\n",
       "      <td>10.18</td>\n",
       "      <td>0</td>\n",
       "      <td>0</td>\n",
       "      <td>0</td>\n",
       "      <td>0</td>\n",
       "    </tr>\n",
       "    <tr>\n",
       "      <th>1</th>\n",
       "      <td>9.74</td>\n",
       "      <td>10</td>\n",
       "      <td>1</td>\n",
       "      <td>1</td>\n",
       "      <td>0</td>\n",
       "      <td>0</td>\n",
       "      <td>66.720482</td>\n",
       "      <td>9.74</td>\n",
       "      <td>0</td>\n",
       "      <td>0</td>\n",
       "      <td>1</td>\n",
       "      <td>0</td>\n",
       "    </tr>\n",
       "    <tr>\n",
       "      <th>2</th>\n",
       "      <td>0.96</td>\n",
       "      <td>2</td>\n",
       "      <td>0</td>\n",
       "      <td>0</td>\n",
       "      <td>0</td>\n",
       "      <td>1</td>\n",
       "      <td>19.189516</td>\n",
       "      <td>0.00</td>\n",
       "      <td>0</td>\n",
       "      <td>0</td>\n",
       "      <td>0</td>\n",
       "      <td>0</td>\n",
       "    </tr>\n",
       "    <tr>\n",
       "      <th>3</th>\n",
       "      <td>9.58</td>\n",
       "      <td>9</td>\n",
       "      <td>1</td>\n",
       "      <td>1</td>\n",
       "      <td>0</td>\n",
       "      <td>1</td>\n",
       "      <td>67.388669</td>\n",
       "      <td>9.58</td>\n",
       "      <td>0</td>\n",
       "      <td>1</td>\n",
       "      <td>1</td>\n",
       "      <td>0</td>\n",
       "    </tr>\n",
       "    <tr>\n",
       "      <th>4</th>\n",
       "      <td>1.03</td>\n",
       "      <td>4</td>\n",
       "      <td>0</td>\n",
       "      <td>1</td>\n",
       "      <td>0</td>\n",
       "      <td>1</td>\n",
       "      <td>15.813127</td>\n",
       "      <td>0.00</td>\n",
       "      <td>0</td>\n",
       "      <td>1</td>\n",
       "      <td>0</td>\n",
       "      <td>0</td>\n",
       "    </tr>\n",
       "  </tbody>\n",
       "</table>\n",
       "</div>"
      ],
      "text/plain": [
       "   Shops  ATMs  Downtown  Weekday  Center  High   Withdraw  ShopsDowntown  \\\n",
       "0  10.18    10         1        0       0     0  72.750556          10.18   \n",
       "1   9.74    10         1        1       0     0  66.720482           9.74   \n",
       "2   0.96     2         0        0       0     1  19.189516           0.00   \n",
       "3   9.58     9         1        1       0     1  67.388669           9.58   \n",
       "4   1.03     4         0        1       0     1  15.813127           0.00   \n",
       "\n",
       "   WeekdayCenter  WeekdayHigh  WeekdayDowntown  DowntownCenter  \n",
       "0              0            0                0               0  \n",
       "1              0            0                1               0  \n",
       "2              0            0                0               0  \n",
       "3              0            1                1               0  \n",
       "4              0            1                0               0  "
      ]
     },
     "execution_count": 211,
     "metadata": {},
     "output_type": "execute_result"
    }
   ],
   "source": [
    "ShopsDowntown = ATM_training[\"Shops\"]*ATM_training[\"Downtown\"]\n",
    "WeekdayCenter = ATM_training[\"Weekday\"]*ATM_training[\"Center\"]\n",
    "WeekdayHigh = ATM_training[\"Weekday\"]*ATM_training[\"High\"]\n",
    "WeekdayDowntown = ATM_training[\"Weekday\"]*ATM_training[\"Downtown\"]\n",
    "DowntownCenter = ATM_training[\"Downtown\"]*ATM_training[\"Center\"]\n",
    "\n",
    "\n",
    "ATM_training[\"ShopsDowntown\"] = ShopsDowntown\n",
    "ATM_training[\"WeekdayCenter\"] = WeekdayCenter \n",
    "ATM_training[\"WeekdayHigh\"] = WeekdayHigh\n",
    "ATM_training[\"WeekdayDowntown\"] = WeekdayDowntown\n",
    "ATM_training[\"DowntownCenter\"] = DowntownCenter\n",
    "\n",
    "ShopsDowntown = ATM_test[\"Shops\"]*ATM_test[\"Downtown\"]\n",
    "WeekdayCenter = ATM_test[\"Weekday\"]*ATM_test[\"Center\"]\n",
    "WeekdayHigh = ATM_test[\"Weekday\"]*ATM_test[\"High\"]\n",
    "WeekdayDowntown = ATM_test[\"Weekday\"]*ATM_test[\"Downtown\"]\n",
    "DowntownCenter = ATM_test[\"Downtown\"]*ATM_test[\"Center\"]\n",
    "\n",
    "\n",
    "ATM_test[\"ShopsDowntown\"] = ShopsDowntown\n",
    "ATM_test[\"WeekdayCenter\"] = WeekdayCenter \n",
    "ATM_test[\"WeekdayHigh\"] = WeekdayHigh\n",
    "ATM_test[\"WeekdayDowntown\"] = WeekdayDowntown\n",
    "ATM_test[\"DowntownCenter\"] = DowntownCenter\n",
    "\n",
    "ATM_training.head()"
   ]
  },
  {
   "cell_type": "markdown",
   "id": "e30079b3",
   "metadata": {},
   "source": [
    "We test the different interaction terms. The one with the lowest root mean squared error is included below:"
   ]
  },
  {
   "cell_type": "code",
   "execution_count": 212,
   "id": "c6ef630b",
   "metadata": {},
   "outputs": [
    {
     "name": "stdout",
     "output_type": "stream",
     "text": [
      "                            OLS Regression Results                            \n",
      "==============================================================================\n",
      "Dep. Variable:               Withdraw   R-squared:                       0.996\n",
      "Model:                            OLS   Adj. R-squared:                  0.996\n",
      "Method:                 Least Squares   F-statistic:                 8.354e+05\n",
      "Date:                Thu, 03 Nov 2022   Prob (F-statistic):               0.00\n",
      "Time:                        22:45:58   Log-Likelihood:                -40663.\n",
      "No. Observations:               22000   AIC:                         8.134e+04\n",
      "Df Residuals:                   21992   BIC:                         8.141e+04\n",
      "Df Model:                           7                                         \n",
      "Covariance Type:            nonrobust                                         \n",
      "=================================================================================\n",
      "                    coef    std err          t      P>|t|      [0.025      0.975]\n",
      "---------------------------------------------------------------------------------\n",
      "const             9.2959      0.068    136.147      0.000       9.162       9.430\n",
      "Shops            10.8410      0.060    179.587      0.000      10.723      10.959\n",
      "ATMs             -1.0034      0.006   -173.055      0.000      -1.015      -0.992\n",
      "Downtown        -36.4578      0.545    -66.867      0.000     -37.526     -35.389\n",
      "Weekday          -2.0098      0.024    -82.942      0.000      -2.057      -1.962\n",
      "Center           17.2670      0.063    274.204      0.000      17.144      17.390\n",
      "High              0.9770      0.023     43.279      0.000       0.933       1.021\n",
      "WeekdayCenter   -14.2764      0.075   -190.445      0.000     -14.423     -14.129\n",
      "==============================================================================\n",
      "Omnibus:                    17916.178   Durbin-Watson:                   2.013\n",
      "Prob(Omnibus):                  0.000   Jarque-Bera (JB):          1213351.557\n",
      "Skew:                          -3.457   Prob(JB):                         0.00\n",
      "Kurtosis:                      38.719   Cond. No.                         646.\n",
      "==============================================================================\n",
      "\n",
      "Notes:\n",
      "[1] Standard Errors assume that the covariance matrix of the errors is correctly specified.\n"
     ]
    }
   ],
   "source": [
    "y = ATM_training[\"Withdraw\"]\n",
    "v=[0,1,2,3,4,5,8]\n",
    "x = ATM_training.iloc[:, v]\n",
    "\n",
    "x_with_intercept2 = sm.add_constant(x, prepend=True)\n",
    "x_with_intercept2.head()\n",
    "\n",
    "model_multivariate = sm.OLS(y, x_with_intercept2)\n",
    "\n",
    "result2 = model_multivariate.fit()\n",
    "\n",
    "print(result2.summary())"
   ]
  },
  {
   "cell_type": "markdown",
   "id": "738f4332",
   "metadata": {},
   "source": []
  },
  {
   "cell_type": "code",
   "execution_count": 213,
   "id": "5d1f4933",
   "metadata": {},
   "outputs": [
    {
     "data": {
      "text/html": [
       "<div>\n",
       "<style scoped>\n",
       "    .dataframe tbody tr th:only-of-type {\n",
       "        vertical-align: middle;\n",
       "    }\n",
       "\n",
       "    .dataframe tbody tr th {\n",
       "        vertical-align: top;\n",
       "    }\n",
       "\n",
       "    .dataframe thead th {\n",
       "        text-align: right;\n",
       "    }\n",
       "</style>\n",
       "<table border=\"1\" class=\"dataframe\">\n",
       "  <thead>\n",
       "    <tr style=\"text-align: right;\">\n",
       "      <th></th>\n",
       "      <th>variables</th>\n",
       "      <th>VIF</th>\n",
       "    </tr>\n",
       "  </thead>\n",
       "  <tbody>\n",
       "    <tr>\n",
       "      <th>0</th>\n",
       "      <td>Shops</td>\n",
       "      <td>526.111070</td>\n",
       "    </tr>\n",
       "    <tr>\n",
       "      <th>1</th>\n",
       "      <td>ATMs</td>\n",
       "      <td>22.334925</td>\n",
       "    </tr>\n",
       "    <tr>\n",
       "      <th>2</th>\n",
       "      <td>Downtown</td>\n",
       "      <td>405.094529</td>\n",
       "    </tr>\n",
       "    <tr>\n",
       "      <th>3</th>\n",
       "      <td>Weekday</td>\n",
       "      <td>3.669043</td>\n",
       "    </tr>\n",
       "    <tr>\n",
       "      <th>4</th>\n",
       "      <td>Center</td>\n",
       "      <td>3.746856</td>\n",
       "    </tr>\n",
       "    <tr>\n",
       "      <th>5</th>\n",
       "      <td>High</td>\n",
       "      <td>1.417255</td>\n",
       "    </tr>\n",
       "    <tr>\n",
       "      <th>6</th>\n",
       "      <td>WeekdayCenter</td>\n",
       "      <td>3.750830</td>\n",
       "    </tr>\n",
       "  </tbody>\n",
       "</table>\n",
       "</div>"
      ],
      "text/plain": [
       "       variables         VIF\n",
       "0          Shops  526.111070\n",
       "1           ATMs   22.334925\n",
       "2       Downtown  405.094529\n",
       "3        Weekday    3.669043\n",
       "4         Center    3.746856\n",
       "5           High    1.417255\n",
       "6  WeekdayCenter    3.750830"
      ]
     },
     "execution_count": 213,
     "metadata": {},
     "output_type": "execute_result"
    }
   ],
   "source": [
    "x = ATM_training.iloc[:, v]\n",
    "calc_vif(x)"
   ]
  },
  {
   "cell_type": "code",
   "execution_count": 214,
   "id": "58f8205d",
   "metadata": {},
   "outputs": [
    {
     "data": {
      "text/plain": [
       "0      15.472670\n",
       "1      71.753106\n",
       "2      66.844272\n",
       "3      73.268237\n",
       "4      74.057479\n",
       "         ...    \n",
       "145    64.653829\n",
       "146    16.906855\n",
       "147    71.971274\n",
       "148    65.654372\n",
       "149    86.148791\n",
       "Length: 150, dtype: float64"
      ]
     },
     "execution_count": 214,
     "metadata": {},
     "output_type": "execute_result"
    }
   ],
   "source": [
    "ATM_test_independent2 = ATM_test.iloc[:, v]\n",
    "ATM_test_independent2.head()\n",
    "ATM_test_independent_intercept2 = sm.add_constant(ATM_test_independent2, prepend=True)\n",
    "ATM_test_independent_intercept2\n",
    "ATM_test_independent_intercept_pred2=result2.predict(ATM_test_independent_intercept2)\n",
    "ATM_test_independent_intercept_pred2"
   ]
  },
  {
   "cell_type": "code",
   "execution_count": 215,
   "id": "e5e9e6d8",
   "metadata": {},
   "outputs": [
    {
     "data": {
      "text/plain": [
       "2.2655475731936976"
      ]
     },
     "execution_count": 215,
     "metadata": {},
     "output_type": "execute_result"
    }
   ],
   "source": [
    "ui = ATM_test[\"Withdraw\"]-ATM_test_independent_intercept_pred2\n",
    "ui\n",
    "test_error1 = sum(i*i for i in ui)/len(ui)\n",
    "test_error1"
   ]
  },
  {
   "cell_type": "markdown",
   "id": "88ef4b8f",
   "metadata": {},
   "source": [
    "However, while the MSE has improved somewhat, multicollinearity is still likely. We should test for this using the VIF:"
   ]
  },
  {
   "cell_type": "code",
   "execution_count": 216,
   "id": "9d087f1a",
   "metadata": {},
   "outputs": [
    {
     "data": {
      "text/html": [
       "<div>\n",
       "<style scoped>\n",
       "    .dataframe tbody tr th:only-of-type {\n",
       "        vertical-align: middle;\n",
       "    }\n",
       "\n",
       "    .dataframe tbody tr th {\n",
       "        vertical-align: top;\n",
       "    }\n",
       "\n",
       "    .dataframe thead th {\n",
       "        text-align: right;\n",
       "    }\n",
       "</style>\n",
       "<table border=\"1\" class=\"dataframe\">\n",
       "  <thead>\n",
       "    <tr style=\"text-align: right;\">\n",
       "      <th></th>\n",
       "      <th>variables</th>\n",
       "      <th>VIF</th>\n",
       "    </tr>\n",
       "  </thead>\n",
       "  <tbody>\n",
       "    <tr>\n",
       "      <th>0</th>\n",
       "      <td>Shops</td>\n",
       "      <td>526.111070</td>\n",
       "    </tr>\n",
       "    <tr>\n",
       "      <th>1</th>\n",
       "      <td>ATMs</td>\n",
       "      <td>22.334925</td>\n",
       "    </tr>\n",
       "    <tr>\n",
       "      <th>2</th>\n",
       "      <td>Downtown</td>\n",
       "      <td>405.094529</td>\n",
       "    </tr>\n",
       "    <tr>\n",
       "      <th>3</th>\n",
       "      <td>Weekday</td>\n",
       "      <td>3.669043</td>\n",
       "    </tr>\n",
       "    <tr>\n",
       "      <th>4</th>\n",
       "      <td>Center</td>\n",
       "      <td>3.746856</td>\n",
       "    </tr>\n",
       "    <tr>\n",
       "      <th>5</th>\n",
       "      <td>High</td>\n",
       "      <td>1.417255</td>\n",
       "    </tr>\n",
       "    <tr>\n",
       "      <th>6</th>\n",
       "      <td>WeekdayCenter</td>\n",
       "      <td>3.750830</td>\n",
       "    </tr>\n",
       "  </tbody>\n",
       "</table>\n",
       "</div>"
      ],
      "text/plain": [
       "       variables         VIF\n",
       "0          Shops  526.111070\n",
       "1           ATMs   22.334925\n",
       "2       Downtown  405.094529\n",
       "3        Weekday    3.669043\n",
       "4         Center    3.746856\n",
       "5           High    1.417255\n",
       "6  WeekdayCenter    3.750830"
      ]
     },
     "execution_count": 216,
     "metadata": {},
     "output_type": "execute_result"
    }
   ],
   "source": [
    "x = ATM_training.iloc[:, v]\n",
    "calc_vif(x)"
   ]
  },
  {
   "cell_type": "markdown",
   "id": "05d69a86",
   "metadata": {},
   "source": [
    "A VIF of above roughly 10 indicates a variable has strong multicollinearity, causing an increase in the variance of estimates because the estimation procedure is less efficient. Here, \"Shops\" and \"Downtown\" suffer from severe multicollinearity, while \"ATMs\" suffers from moderate multicollinearity."
   ]
  },
  {
   "cell_type": "markdown",
   "id": "069cf842",
   "metadata": {},
   "source": [
    "If we remove any of the variables to eliminate multicollinearity, the test MSE increases to approximately 6 or 7 (only slightly less, or around the same as if the interaction terms were excluded). Therefore, while attempting to include interaction terms is a sensible idea, it did not yield fruitful results."
   ]
  },
  {
   "cell_type": "markdown",
   "id": "080aa529",
   "metadata": {},
   "source": [
    "We try testing the neural networks method, first without any interaction terms:"
   ]
  },
  {
   "cell_type": "code",
   "execution_count": 1,
   "id": "40a6d1fd",
   "metadata": {},
   "outputs": [
    {
     "ename": "NameError",
     "evalue": "name 'np' is not defined",
     "output_type": "error",
     "traceback": [
      "\u001b[1;31m---------------------------------------------------------------------------\u001b[0m",
      "\u001b[1;31mNameError\u001b[0m                                 Traceback (most recent call last)",
      "Input \u001b[1;32mIn [1]\u001b[0m, in \u001b[0;36m<cell line: 1>\u001b[1;34m()\u001b[0m\n\u001b[1;32m----> 1\u001b[0m \u001b[43mnp\u001b[49m\u001b[38;5;241m.\u001b[39mrandom\u001b[38;5;241m.\u001b[39mseed(\u001b[38;5;241m1000\u001b[39m) \u001b[38;5;66;03m#Fix random seed\u001b[39;00m\n\u001b[0;32m      2\u001b[0m \u001b[38;5;66;03m#Import data\u001b[39;00m\n\u001b[0;32m      3\u001b[0m ATM_training \u001b[38;5;241m=\u001b[39m pd\u001b[38;5;241m.\u001b[39mread_csv(\u001b[38;5;124m'\u001b[39m\u001b[38;5;124mATM_training.csv\u001b[39m\u001b[38;5;124m'\u001b[39m)\n",
      "\u001b[1;31mNameError\u001b[0m: name 'np' is not defined"
     ]
    }
   ],
   "source": [
    "np.random.seed(1000) #Fix random seed\n",
    "#Import data\n",
    "ATM_training = pd.read_csv('ATM_training.csv')\n",
    "ATM_test = pd.read_csv('ATM_test.csv')\n",
    "\n",
    "v=[0,1,2,3,4,5]\n",
    "X_train = ATM_training.iloc[:,v]; y_train = ATM_training.iloc[:,6]\n",
    "X_test = ATM_test.iloc[:,v]; y_test = ATM_test.iloc[:,6]\n",
    "\n",
    "#Standardise the data\n",
    "from sklearn.preprocessing import StandardScaler\n",
    "scaler = StandardScaler()\n",
    "scaler.fit(X_train)\n",
    "X_train = scaler.transform(X_train)\n",
    "X_test = scaler.transform(X_test)\n",
    "\n",
    "from keras.models import Sequential\n",
    "from keras.layers import Dense\n",
    "\n",
    "# Now buid the neural net model\n",
    "model = Sequential()\n",
    "model.add(Dense(6, input_dim=6, activation='relu')) # the first hidden layer has 6 units, input has 6 units\n",
    "# add another hidden layer with 6 units\n",
    "model.add(Dense(6, activation='relu'))\n",
    "model.add(Dense(1, activation='linear')) # the output layer has 1 unit with the linear activation\n",
    "\n",
    "# Compile model\n",
    "model.compile(loss='MSE', optimizer='adam')\n",
    "# Fit the model\n",
    "model.fit(X_train, y_train, epochs=100, batch_size=100)\n",
    "# Evaluate the model\n",
    "MSE_nn = model.evaluate(X_test, y_test)\n",
    "print('\\n Root of MSE on the test data for neural net:', np.sqrt(MSE_nn))"
   ]
  },
  {
   "cell_type": "markdown",
   "id": "e9942ba1",
   "metadata": {},
   "source": [
    "There is a substantial reduction in test MSE when a neural network is used (note that the final line actually reports the square root of the MSE because this is reported in terms of the scale of the data, although the assignment requests that we use the MSE). However, we might be able to obtain a better result using the interaction terms (although this makes the model harder to interpret and increases the demand for computing power)."
   ]
  },
  {
   "cell_type": "code",
   "execution_count": 196,
   "id": "e5c8c18e",
   "metadata": {},
   "outputs": [
    {
     "name": "stdout",
     "output_type": "stream",
     "text": [
      "Epoch 1/100\n",
      "2200/2200 [==============================] - 10s 4ms/step - loss: 488.4091\n",
      "Epoch 2/100\n",
      "2200/2200 [==============================] - 12s 5ms/step - loss: 0.7176\n",
      "Epoch 3/100\n",
      "2200/2200 [==============================] - 16s 7ms/step - loss: 0.4160\n",
      "Epoch 4/100\n",
      "2200/2200 [==============================] - 12s 6ms/step - loss: 0.3486\n",
      "Epoch 5/100\n",
      "2200/2200 [==============================] - 13s 6ms/step - loss: 0.3299\n",
      "Epoch 6/100\n",
      "2200/2200 [==============================] - 10s 4ms/step - loss: 0.3223\n",
      "Epoch 7/100\n",
      "2200/2200 [==============================] - 11s 5ms/step - loss: 0.3220\n",
      "Epoch 8/100\n",
      "2200/2200 [==============================] - 9s 4ms/step - loss: 0.3197\n",
      "Epoch 9/100\n",
      "2200/2200 [==============================] - 8s 4ms/step - loss: 0.3175\n",
      "Epoch 10/100\n",
      "2200/2200 [==============================] - 6s 3ms/step - loss: 0.3120\n",
      "Epoch 11/100\n",
      "2200/2200 [==============================] - 7s 3ms/step - loss: 0.3091\n",
      "Epoch 12/100\n",
      "2200/2200 [==============================] - 6s 3ms/step - loss: 0.3129\n",
      "Epoch 13/100\n",
      "2200/2200 [==============================] - 6s 3ms/step - loss: 0.3093\n",
      "Epoch 14/100\n",
      "2200/2200 [==============================] - 6s 3ms/step - loss: 0.3062\n",
      "Epoch 15/100\n",
      "2200/2200 [==============================] - 6s 3ms/step - loss: 0.3069\n",
      "Epoch 16/100\n",
      "2200/2200 [==============================] - 5s 2ms/step - loss: 0.3082\n",
      "Epoch 17/100\n",
      "2200/2200 [==============================] - 6s 3ms/step - loss: 0.3049\n",
      "Epoch 18/100\n",
      "2200/2200 [==============================] - 6s 3ms/step - loss: 0.3064\n",
      "Epoch 19/100\n",
      "2200/2200 [==============================] - 5s 2ms/step - loss: 0.3073\n",
      "Epoch 20/100\n",
      "2200/2200 [==============================] - 6s 3ms/step - loss: 0.3029\n",
      "Epoch 21/100\n",
      "2200/2200 [==============================] - 5s 2ms/step - loss: 0.3013\n",
      "Epoch 22/100\n",
      "2200/2200 [==============================] - 5s 2ms/step - loss: 0.3005\n",
      "Epoch 23/100\n",
      "2200/2200 [==============================] - 6s 3ms/step - loss: 0.3054\n",
      "Epoch 24/100\n",
      "2200/2200 [==============================] - 6s 3ms/step - loss: 0.3016\n",
      "Epoch 25/100\n",
      "2200/2200 [==============================] - 5s 2ms/step - loss: 0.2993\n",
      "Epoch 26/100\n",
      "2200/2200 [==============================] - 6s 3ms/step - loss: 0.2982\n",
      "Epoch 27/100\n",
      "2200/2200 [==============================] - 5s 2ms/step - loss: 0.2994\n",
      "Epoch 28/100\n",
      "2200/2200 [==============================] - 5s 2ms/step - loss: 0.3010\n",
      "Epoch 29/100\n",
      "2200/2200 [==============================] - 6s 3ms/step - loss: 0.3000\n",
      "Epoch 30/100\n",
      "2200/2200 [==============================] - 5s 2ms/step - loss: 0.2963\n",
      "Epoch 31/100\n",
      "2200/2200 [==============================] - 5s 2ms/step - loss: 0.2966\n",
      "Epoch 32/100\n",
      "2200/2200 [==============================] - 6s 3ms/step - loss: 0.2996\n",
      "Epoch 33/100\n",
      "2200/2200 [==============================] - 7s 3ms/step - loss: 0.2991\n",
      "Epoch 34/100\n",
      "2200/2200 [==============================] - 7s 3ms/step - loss: 0.2973\n",
      "Epoch 35/100\n",
      "2200/2200 [==============================] - 13s 6ms/step - loss: 0.2990\n",
      "Epoch 36/100\n",
      "2200/2200 [==============================] - 8s 3ms/step - loss: 0.2928\n",
      "Epoch 37/100\n",
      "2200/2200 [==============================] - 4s 2ms/step - loss: 0.2983\n",
      "Epoch 38/100\n",
      "2200/2200 [==============================] - 5s 2ms/step - loss: 0.2958\n",
      "Epoch 39/100\n",
      "2200/2200 [==============================] - 6s 3ms/step - loss: 0.2948\n",
      "Epoch 40/100\n",
      "2200/2200 [==============================] - 5s 2ms/step - loss: 0.2984\n",
      "Epoch 41/100\n",
      "2200/2200 [==============================] - 5s 2ms/step - loss: 0.2943\n",
      "Epoch 42/100\n",
      "2200/2200 [==============================] - 5s 2ms/step - loss: 0.2966\n",
      "Epoch 43/100\n",
      "2200/2200 [==============================] - 5s 2ms/step - loss: 0.2956\n",
      "Epoch 44/100\n",
      "2200/2200 [==============================] - 5s 2ms/step - loss: 0.2917\n",
      "Epoch 45/100\n",
      "2200/2200 [==============================] - 6s 3ms/step - loss: 0.2937\n",
      "Epoch 46/100\n",
      "2200/2200 [==============================] - 4s 2ms/step - loss: 0.2956\n",
      "Epoch 47/100\n",
      "2200/2200 [==============================] - 5s 2ms/step - loss: 0.2936\n",
      "Epoch 48/100\n",
      "2200/2200 [==============================] - 7s 3ms/step - loss: 0.2918\n",
      "Epoch 49/100\n",
      "2200/2200 [==============================] - 8s 3ms/step - loss: 0.2934\n",
      "Epoch 50/100\n",
      "2200/2200 [==============================] - 9s 4ms/step - loss: 0.2934\n",
      "Epoch 51/100\n",
      "2200/2200 [==============================] - 5s 2ms/step - loss: 0.2935\n",
      "Epoch 52/100\n",
      "2200/2200 [==============================] - 5s 2ms/step - loss: 0.2935\n",
      "Epoch 53/100\n",
      "2200/2200 [==============================] - 6s 3ms/step - loss: 0.2942\n",
      "Epoch 54/100\n",
      "2200/2200 [==============================] - 6s 2ms/step - loss: 0.2935\n",
      "Epoch 55/100\n",
      "2200/2200 [==============================] - 6s 3ms/step - loss: 0.2913\n",
      "Epoch 56/100\n",
      "2200/2200 [==============================] - 6s 3ms/step - loss: 0.2921\n",
      "Epoch 57/100\n",
      "2200/2200 [==============================] - 5s 2ms/step - loss: 0.2913\n",
      "Epoch 58/100\n",
      "2200/2200 [==============================] - 6s 3ms/step - loss: 0.2919\n",
      "Epoch 59/100\n",
      "2200/2200 [==============================] - 6s 3ms/step - loss: 0.2936\n",
      "Epoch 60/100\n",
      "2200/2200 [==============================] - 6s 3ms/step - loss: 0.2909\n",
      "Epoch 61/100\n",
      "2200/2200 [==============================] - 6s 3ms/step - loss: 0.2951\n",
      "Epoch 62/100\n",
      "2200/2200 [==============================] - 7s 3ms/step - loss: 0.2926\n",
      "Epoch 63/100\n",
      "2200/2200 [==============================] - 8s 4ms/step - loss: 0.2911\n",
      "Epoch 64/100\n",
      "2200/2200 [==============================] - 8s 4ms/step - loss: 0.2915\n",
      "Epoch 65/100\n",
      "2200/2200 [==============================] - 7s 3ms/step - loss: 0.2909\n",
      "Epoch 66/100\n",
      "2200/2200 [==============================] - 6s 3ms/step - loss: 0.2942\n",
      "Epoch 67/100\n",
      "2200/2200 [==============================] - 6s 3ms/step - loss: 0.2890\n",
      "Epoch 68/100\n",
      "2200/2200 [==============================] - 6s 3ms/step - loss: 0.2905\n",
      "Epoch 69/100\n",
      "2200/2200 [==============================] - 5s 2ms/step - loss: 0.2886\n",
      "Epoch 70/100\n",
      "2200/2200 [==============================] - 8s 3ms/step - loss: 0.2937\n",
      "Epoch 71/100\n",
      "2200/2200 [==============================] - 8s 4ms/step - loss: 0.2895\n",
      "Epoch 72/100\n",
      "2200/2200 [==============================] - 5s 2ms/step - loss: 0.2905\n",
      "Epoch 73/100\n",
      "2200/2200 [==============================] - 8s 4ms/step - loss: 0.2938\n",
      "Epoch 74/100\n",
      "2200/2200 [==============================] - 5s 2ms/step - loss: 0.2889\n",
      "Epoch 75/100\n",
      "2200/2200 [==============================] - 5s 2ms/step - loss: 0.2897\n",
      "Epoch 76/100\n",
      "2200/2200 [==============================] - 8s 4ms/step - loss: 0.2893\n",
      "Epoch 77/100\n",
      "2200/2200 [==============================] - 6s 3ms/step - loss: 0.2920\n",
      "Epoch 78/100\n",
      "2200/2200 [==============================] - 8s 4ms/step - loss: 0.2918\n",
      "Epoch 79/100\n",
      "2200/2200 [==============================] - 5s 2ms/step - loss: 0.2886\n",
      "Epoch 80/100\n",
      "2200/2200 [==============================] - 6s 3ms/step - loss: 0.2904\n",
      "Epoch 81/100\n",
      "2200/2200 [==============================] - 5s 2ms/step - loss: 0.2913\n",
      "Epoch 82/100\n",
      "2200/2200 [==============================] - 5s 2ms/step - loss: 0.2882\n",
      "Epoch 83/100\n",
      "2200/2200 [==============================] - 8s 3ms/step - loss: 0.2879\n",
      "Epoch 84/100\n",
      "2200/2200 [==============================] - 11s 5ms/step - loss: 0.2909\n",
      "Epoch 85/100\n",
      "2200/2200 [==============================] - 9s 4ms/step - loss: 0.2886\n",
      "Epoch 86/100\n",
      "2200/2200 [==============================] - 8s 3ms/step - loss: 0.2893\n",
      "Epoch 87/100\n",
      "2200/2200 [==============================] - 8s 4ms/step - loss: 0.2884\n",
      "Epoch 88/100\n",
      "2200/2200 [==============================] - 8s 4ms/step - loss: 0.2871\n",
      "Epoch 89/100\n",
      "2200/2200 [==============================] - 8s 4ms/step - loss: 0.2905\n",
      "Epoch 90/100\n",
      "2200/2200 [==============================] - 5s 2ms/step - loss: 0.2907\n",
      "Epoch 91/100\n",
      "2200/2200 [==============================] - 6s 3ms/step - loss: 0.2876\n",
      "Epoch 92/100\n",
      "2200/2200 [==============================] - 10s 5ms/step - loss: 0.2890\n",
      "Epoch 93/100\n",
      "2200/2200 [==============================] - 7s 3ms/step - loss: 0.2889\n",
      "Epoch 94/100\n",
      "2200/2200 [==============================] - 5s 2ms/step - loss: 0.2906\n",
      "Epoch 95/100\n",
      "2200/2200 [==============================] - 5s 2ms/step - loss: 0.2886\n",
      "Epoch 96/100\n",
      "2200/2200 [==============================] - 5s 2ms/step - loss: 0.2877\n",
      "Epoch 97/100\n",
      "2200/2200 [==============================] - 4s 2ms/step - loss: 0.2851\n",
      "Epoch 98/100\n",
      "2200/2200 [==============================] - 4s 2ms/step - loss: 0.2882\n",
      "Epoch 99/100\n",
      "2200/2200 [==============================] - 5s 2ms/step - loss: 0.2881\n",
      "Epoch 100/100\n",
      "2200/2200 [==============================] - 5s 2ms/step - loss: 0.2873\n",
      "5/5 [==============================] - 0s 2ms/step - loss: 0.2938\n",
      "\n",
      " Root of MSE on the test data for neural net: 0.5419925724062541\n"
     ]
    }
   ],
   "source": [
    "np.random.seed(1000) #Fix random seed\n",
    "#Import data\n",
    "ATM_training = pd.read_csv('ATM_training.csv')\n",
    "ATM_test = pd.read_csv('ATM_test.csv')\n",
    "\n",
    "#Generate additional interaction terms of interest\n",
    "ShopsDowntown = ATM_training[\"Shops\"]*ATM_training[\"Downtown\"]\n",
    "WeekdayCenter = ATM_training[\"Weekday\"]*ATM_training[\"Center\"]\n",
    "WeekdayHigh = ATM_training[\"Weekday\"]*ATM_training[\"High\"]\n",
    "WeekdayDowntown = ATM_training[\"Weekday\"]*ATM_training[\"Downtown\"]\n",
    "DowntownCenter = ATM_training[\"Downtown\"]*ATM_training[\"Center\"]\n",
    "\n",
    "ATM_training[\"ShopsDowntown\"] = ShopsDowntown\n",
    "ATM_training[\"WeekdayCenter\"] = WeekdayCenter \n",
    "ATM_training[\"WeekdayHigh\"] = WeekdayHigh\n",
    "ATM_training[\"WeekdayDowntown\"] = WeekdayDowntown\n",
    "ATM_training[\"DowntownCenter\"] = DowntownCenter\n",
    "\n",
    "ShopsDowntown = ATM_test[\"Shops\"]*ATM_test[\"Downtown\"]\n",
    "WeekdayCenter = ATM_test[\"Weekday\"]*ATM_test[\"Center\"]\n",
    "WeekdayHigh = ATM_test[\"Weekday\"]*ATM_test[\"High\"]\n",
    "WeekdayDowntown = ATM_test[\"Weekday\"]*ATM_test[\"Downtown\"]\n",
    "DowntownCenter = ATM_test[\"Downtown\"]*ATM_test[\"Center\"]\n",
    "\n",
    "ATM_test[\"ShopsDowntown\"] = ShopsDowntown\n",
    "ATM_test[\"WeekdayCenter\"] = WeekdayCenter \n",
    "ATM_test[\"WeekdayHigh\"] = WeekdayHigh\n",
    "ATM_test[\"WeekdayDowntown\"] = WeekdayDowntown\n",
    "ATM_test[\"DowntownCenter\"] = DowntownCenter\n",
    "\n",
    "v=[0,1,2,3,4,5,7,8,9,10,11]\n",
    "X_train = ATM_training.iloc[:,v]; y_train = ATM_training.iloc[:,6]\n",
    "X_test = ATM_test.iloc[:,v]; y_test = ATM_test.iloc[:,6]\n",
    "\n",
    "#Standardise the data\n",
    "from sklearn.preprocessing import StandardScaler\n",
    "scaler = StandardScaler()\n",
    "scaler.fit(X_train)\n",
    "X_train = scaler.transform(X_train)\n",
    "X_test = scaler.transform(X_test)\n",
    "\n",
    "from keras.models import Sequential\n",
    "from keras.layers import Dense\n",
    "\n",
    "# Now buid the neural net model\n",
    "model = Sequential()\n",
    "model.add(Dense(11, input_dim=11, activation='relu')) # the first hidden layer has 11 units, input has 11 units\n",
    "# add another hidden layer with 11 units\n",
    "model.add(Dense(11, activation='relu'))\n",
    "model.add(Dense(1, activation='linear')) # the output layer has 1 unit with the linear activation\n",
    "\n",
    "# Compile model\n",
    "model.compile(loss='MSE', optimizer='adam')\n",
    "# Fit the model\n",
    "model.fit(X_train, y_train, epochs=100, batch_size=10)\n",
    "# Evaluate the model\n",
    "MSE_nn = model.evaluate(X_test, y_test)\n",
    "print('\\n Root of MSE on the test data for neural net:', np.sqrt(MSE_nn))"
   ]
  },
  {
   "cell_type": "markdown",
   "id": "f1d5c976",
   "metadata": {},
   "source": [
    "As seen above, there isn't really a substantial improvement when the interaction terms are included (the MSE from the model without interaction terms is actually slightly less than the MSE from the model with interaction terms). Overall, the MSE's are comparable, whether or not the interaction terms are included. This is expected because the neural network model \"learns\" from the data, and there is no new \"knowledge\" provided by including interaction terms that are simply functions of the simpler covariates.\n",
    "\n",
    "Additionally, including the interactions makes the model less efficient computationally. \n",
    "\n",
    "We also find that by adding an additional hidden layer, the test MSE decreases substantially. The test MSE was approximately 1.2 prior to the inclusion of the additional hidden layer. This hidden layer helps the model find the best predictors as functions of the covariates (although we do not know what these functions are because the deep learning/neural network model has low interpretability)."
   ]
  }
 ],
 "metadata": {
  "kernelspec": {
   "display_name": "Python 3 (ipykernel)",
   "language": "python",
   "name": "python3"
  },
  "language_info": {
   "codemirror_mode": {
    "name": "ipython",
    "version": 3
   },
   "file_extension": ".py",
   "mimetype": "text/x-python",
   "name": "python",
   "nbconvert_exporter": "python",
   "pygments_lexer": "ipython3",
   "version": "3.9.12"
  }
 },
 "nbformat": 4,
 "nbformat_minor": 5
}
